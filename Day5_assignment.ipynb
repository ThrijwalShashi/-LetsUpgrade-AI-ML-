{
 "cells": [
  {
   "cell_type": "code",
   "execution_count": 2,
   "metadata": {},
   "outputs": [
    {
     "name": "stdout",
     "output_type": "stream",
     "text": [
      "solution for Question 1 \n",
      "1\n",
      "3\n",
      "5\n",
      "7\n",
      "9\n",
      "11\n",
      "13\n",
      "15\n",
      "17\n",
      "19\n"
     ]
    }
   ],
   "source": [
    "print(\"solution for Question 1 \")\n",
    "for i in range(20):\n",
    "    if i%2 != 0:\n",
    "        print(i,end='\\n')\n",
    "    else:\n",
    "        continue\n",
    "        "
   ]
  },
  {
   "cell_type": "code",
   "execution_count": 8,
   "metadata": {},
   "outputs": [
    {
     "name": "stdout",
     "output_type": "stream",
     "text": [
      "Solution for Question 2\n",
      "Original string : there is a heavy rain in town\n",
      "first function :  There is a heavy rain in town\n",
      "second function : 29\n",
      "third function : 1\n",
      "fourth function :here comes sumana with Rs 230 in hand\n",
      "fifth function : there is a heavy rain in town\n",
      "sixth function : False\n",
      "seventh function : THERE IS A HEAVY RAIN IN TOWN\n",
      "eighth function : there is a heavy rain in town\n",
      "ninth function : False\n",
      "tenth function : 11\n",
      "elleventh function : ('there is a ', 'heavy', ' rain in town')\n",
      "twelfth function : ['there', 'is', 'a', 'heavy', 'rain', 'in', 'town']\n",
      "thirteenth function : there is a heavy rain in town\n",
      "fourteenth function : there is a heavy rain in town\n",
      "fifteenth function : False\n"
     ]
    }
   ],
   "source": [
    "# Question 2\n",
    "# Write a Python program to implement 15 functions of string.\n",
    "s = \"there is a heavy rain in town\"\n",
    "s2 =\"rain\"\n",
    "s3 = \"Dr. Darshan Ingle @AIML Trainer\"\n",
    "print(\"Solution for Question 2\")\n",
    "print(\"Original string :\",s,end='\\n')\n",
    "print(\"first function : \",s.capitalize())#first function\n",
    "print(\"second function :\",len(s))#second function\n",
    "print(\"third function :\",s.count(s2))#third function\n",
    "print(\"fourth function :\" \"here comes sumana with Rs {money} in hand\".format(money = 230))#fourth function\n",
    "print(\"fifth function :\",s.center(12))#fifth function\n",
    "print(\"sixth function :\",s.isalnum())#sixth function\n",
    "print(\"seventh function :\",s.upper())#seventh function\n",
    "print(\"eighth function :\",s.lower())#eighth function\n",
    "print(\"ninth function :\",s.istitle())#ninth function\n",
    "print(\"tenth function :\",s.rindex('heavy'))#tenth function\n",
    "print(\"elleventh function :\",s.partition('heavy'))#elleventh function\n",
    "print(\"twelfth function :\",s.split())#twelfth function\n",
    "print(\"thirteenth function :\",s.casefold())#thirteenth function\n",
    "print(\"fourteenth function :\",s.expandtabs(2))#fourteenth function\n",
    "print(\"fifteenth function :\",s.isdecimal(),end='\\n')#fiftennth function"
   ]
  },
  {
   "cell_type": "code",
   "execution_count": 9,
   "metadata": {},
   "outputs": [
    {
     "name": "stdout",
     "output_type": "stream",
     "text": [
      "Solution for Question 3\n",
      "Yes\n",
      "\n"
     ]
    }
   ],
   "source": [
    "#Question 3:\n",
    "#Write a Python program to check if the given string is a Palindrome or Anagram or None of them. Display\n",
    "#the message accordingly to the user.\n",
    "def isPalindrome(str):\n",
    " \n",
    "     \n",
    "    for i in range(0, int(len(str)/2)): \n",
    "        if str[i] != str[len(str)-i-1]:\n",
    "            return False\n",
    "    return True\n",
    " \n",
    "\n",
    "s = \"malayalam\"\n",
    "ans = isPalindrome(s)\n",
    "print(\"Solution for Question 3\")\n",
    "if (ans):\n",
    "    print(\"Yes\")\n",
    "else:\n",
    "    print(\"No\")\n",
    "print(end='\\n')\n"
   ]
  },
  {
   "cell_type": "code",
   "execution_count": 10,
   "metadata": {},
   "outputs": [
    {
     "name": "stdout",
     "output_type": "stream",
     "text": [
      "Solution for Question 4\n",
      " drdarshaningleaimltrainer\n"
     ]
    }
   ],
   "source": [
    "#Question 4:\n",
    "#Write a Python's user-defined function that removes all the additional characters from the string and\n",
    "#convert it finally to lower case using built-in lower(). eg: If the string is \"Dr. Darshan Ingle @AIML Trainer\",\n",
    "#then the output be \"drdarshaningleaimltrainer\"\n",
    "\n",
    "Str1= \"Dr. Darshan Ingle @AIML Trainer\"\n",
    "newStr = \" \"\n",
    "print(\"Solution for Question 4\")\n",
    "for i in Str1:\n",
    "    if i.isalnum():\n",
    "        newStr+= i\n",
    "    else:\n",
    "        continue\n",
    "\n",
    "print(newStr.lower(),end='\\n')"
   ]
  },
  {
   "cell_type": "code",
   "execution_count": null,
   "metadata": {},
   "outputs": [],
   "source": []
  }
 ],
 "metadata": {
  "kernelspec": {
   "display_name": "Python 3",
   "language": "python",
   "name": "python3"
  },
  "language_info": {
   "codemirror_mode": {
    "name": "ipython",
    "version": 3
   },
   "file_extension": ".py",
   "mimetype": "text/x-python",
   "name": "python",
   "nbconvert_exporter": "python",
   "pygments_lexer": "ipython3",
   "version": "3.6.7"
  }
 },
 "nbformat": 4,
 "nbformat_minor": 4
}
