{
 "metadata": {
  "language_info": {
   "codemirror_mode": {
    "name": "ipython",
    "version": 3
   },
   "file_extension": ".py",
   "mimetype": "text/x-python",
   "name": "python",
   "nbconvert_exporter": "python",
   "pygments_lexer": "ipython3",
   "version": "3.7.2-final"
  },
  "orig_nbformat": 2,
  "kernelspec": {
   "name": "python_defaultSpec_1599735024464",
   "display_name": "Python 3.7.2 64-bit"
  }
 },
 "nbformat": 4,
 "nbformat_minor": 2,
 "cells": [
  {
   "cell_type": "code",
   "execution_count": null,
   "metadata": {},
   "outputs": [],
   "source": [
    "# Question 1:\n",
    "# Write a program to copy the contents of one file to another using a for loop. (Don’t use built-in copy\n",
    "# function)\n",
    "with open(\"test.txt\") as f:\n",
    "    with open(\"out.txt\", \"w\") as f1:\n",
    "        for line in f:\n",
    "            f1.write(line)"
   ]
  },
  {
   "cell_type": "code",
   "execution_count": 15,
   "metadata": {
    "tags": []
   },
   "outputs": [
    {
     "output_type": "stream",
     "name": "stdout",
     "text": "1 3\n"
    }
   ],
   "source": [
    "# Question 2:\n",
    "# Write a Python program to find maximum and minimum values in the dictionary. Do not use built-in min\n",
    "# and max functions.\n",
    "data= {0: 1, 2: 1, 3: 1, 4: 3, 5: 2}\n",
    "items=list(data.values())\n",
    "min=items[0]\n",
    "max=-1\n",
    "for key in data:\n",
    "    if data[key]>max:\n",
    "        max=data[key]\n",
    "    if data[key]<min:\n",
    "        min=data[key]\n",
    "print(min,max)"
   ]
  },
  {
   "cell_type": "code",
   "execution_count": null,
   "metadata": {},
   "outputs": [],
   "source": []
  }
 ]
}