{
 "cells": [
  {
   "cell_type": "code",
   "execution_count": 4,
   "metadata": {},
   "outputs": [
    {
     "name": "stdout",
     "output_type": "stream",
     "text": [
      "veoneer\n"
     ]
    }
   ],
   "source": [
    "#Question1\n",
    "#Assuming that we have some email addresses in the \"username@companyname.com\" format, please\n",
    "#write a program to print the company name of a given email address. Both user names and company\n",
    "#names are composed of letters only.\n",
    "#Input Format:\n",
    "#The first line of the input contains an email address.\n",
    "#Output Format:\n",
    "#Print the company name in a single line.\n",
    "#Example;\n",
    "#Input:\n",
    "#john@google.com\n",
    "#Output:\n",
    "#google.\n",
    "\n",
    "\n",
    "#Solution\n",
    "email = \"sumana.nagaraj@veoneer.com\"\n",
    "def extract_company(email):\n",
    "    x = email.split('@')[1].split('.')[0]\n",
    "    print(x)\n",
    "extract_company(email)\n"
   ]
  },
  {
   "cell_type": "code",
   "execution_count": 37,
   "metadata": {},
   "outputs": [
    {
     "name": "stdout",
     "output_type": "stream",
     "text": [
      "bag,hello,without,world\n"
     ]
    }
   ],
   "source": [
    "#Question 2 :\n",
    "#Write a program that accepts a comma-separated sequence of words as input and prints the words in a\n",
    "#comma-separated sequence after sorting them alphabetically.\n",
    "#Input Format:\n",
    "#The first line of input contains words separated by the comma.\n",
    "#Output Format:\n",
    "#Print the sorted words separated by the comma.\n",
    "#Example:\n",
    "#Input:\n",
    "#without,hello,bag,world\n",
    "#Output:\n",
    "#bag,hello,without,world\n",
    "\n",
    "\n",
    "#Solution\n",
    "y=\"without,hello,bag,world\"\n",
    "y=y.split(\",\")\n",
    "y=sorted(y)\n",
    "print(\",\".join(y))"
   ]
  },
  {
   "cell_type": "code",
   "execution_count": 47,
   "metadata": {},
   "outputs": [
    {
     "name": "stdout",
     "output_type": "stream",
     "text": [
      "{'apple', 'cherry', 'banana'}\n",
      "apple\n",
      "cherry\n",
      "banana\n",
      "{'apple', 'cherry', 'banana', 'orange'}\n",
      "{'apple', 'cherry', 'banana', 'orange', 'grapes', 'mango'}\n",
      "{'apple', 'cherry'}\n",
      "{'a', 1, 2, 3, 'b', 'c'}\n",
      "{'apple', 'cherry', 'banana'}\n"
     ]
    }
   ],
   "source": [
    "#Question 3:\n",
    "#Create your own Jupyter Notebook for Sets. Reference link:\n",
    "#https://www.w3schools.com/python/python_sets.asp\n",
    "\n",
    "#Solution \n",
    "#1 Create a Set:\n",
    "\n",
    "thisset = {\"apple\", \"banana\", \"cherry\"}\n",
    "print(thisset)\n",
    "\n",
    "\n",
    "#2 Access items\n",
    "thisset = {\"apple\", \"banana\", \"cherry\"}\n",
    "\n",
    "for x in thisset:\n",
    "  print(x)\n",
    "\n",
    "\n",
    "#3 Add items\n",
    "thisset = {\"apple\", \"banana\", \"cherry\"}\n",
    "\n",
    "thisset.add(\"orange\")\n",
    "\n",
    "print(thisset)\n",
    "\n",
    "#4 update function\n",
    "thisset = {\"apple\", \"banana\", \"cherry\"}\n",
    "\n",
    "thisset.update([\"orange\", \"mango\", \"grapes\"])\n",
    "\n",
    "print(thisset)\n",
    "\n",
    "\n",
    "#5 Remove item\n",
    "thisset = {\"apple\", \"banana\", \"cherry\"}\n",
    "\n",
    "thisset.remove(\"banana\")\n",
    "\n",
    "print(thisset)\n",
    "\n",
    "\n",
    "#6 union of sets\n",
    "set1 = {\"a\", \"b\" , \"c\"}\n",
    "set2 = {1, 2, 3}\n",
    "\n",
    "set3 = set1.union(set2)\n",
    "print(set3)\n",
    "\n",
    "\n",
    "#7 set constructor\n",
    "thisset = set((\"apple\", \"banana\", \"cherry\")) \n",
    "print(thisset)"
   ]
  },
  {
   "cell_type": "code",
   "execution_count": 10,
   "metadata": {},
   "outputs": [
    {
     "name": "stdout",
     "output_type": "stream",
     "text": [
      "The original list : [3, 5, 6, 8, 10]\n",
      "The list of missing elements : [0, 1, 2, 4, 7, 9]\n"
     ]
    }
   ],
   "source": [
    "#Question 4:\n",
    "#Given a list of n-1 numbers ranging from 1 to n, your task is to find the missing number. There are no\n",
    "#duplicates.\n",
    "#Input Format:\n",
    "#The first line contains n-1 numbers with each number separated by a space.\n",
    "#Output Format:\n",
    "#Print the missing number\n",
    "#Example:\n",
    "#Input:\n",
    "#1 2 4 6 3 7 8\n",
    "#Output:\n",
    "#5\n",
    "#Explanation:\n",
    "#In the above list of numbers 5 is missing and hence 5 is the input\n",
    "\n",
    "\n",
    "#Solution\n",
    "test_list = [3, 5, 6, 8, 10]\n",
    "print(\"The original list : \" + str(test_list))\n",
    "res = [ele for ele in range(max(test_list)) if ele not in test_list] \n",
    "print(\"The list of missing elements : \" + str(res)) "
   ]
  },
  {
   "cell_type": "code",
   "execution_count": 9,
   "metadata": {},
   "outputs": [
    {
     "name": "stdout",
     "output_type": "stream",
     "text": [
      "[12 24 35]\n"
     ]
    }
   ],
   "source": [
    "#Question 5:\n",
    "#With a given list L, write a program to print this list L after removing all duplicate values with original order\n",
    "#reserved.\n",
    "#Example:\n",
    "#If the input list is\n",
    "#12 24 35 24 88 120 155 88 120 155\n",
    "#Then the output should be\n",
    "#12 24 35 88 120 155\n",
    "#Explanation:\n",
    "#Third, the seventh and ninth element of the list L has been removed because it was already present.\n",
    "#Input Format:\n",
    "#In one line take the elements of the list L with each element separated by a space.\n",
    "#Output Format:\n",
    "#Print the elements of the modified list in one line with each element separated by a space.\n",
    "#Example:\n",
    "#Input:\n",
    "#12 24 35 24\n",
    "#Output:\n",
    "#12 24 35\n",
    "\n",
    "\n",
    "#Solution\n",
    "import numpy as np\n",
    "a = [12,24,35,24]\n",
    "x = np.array(a)\n",
    "print(np.unique(x))\n"
   ]
  },
  {
   "cell_type": "code",
   "execution_count": 8,
   "metadata": {},
   "outputs": [
    {
     "name": "stdout",
     "output_type": "stream",
     "text": [
      "[12 24 35]\n"
     ]
    }
   ],
   "source": []
  },
  {
   "cell_type": "code",
   "execution_count": null,
   "metadata": {},
   "outputs": [],
   "source": []
  }
 ],
 "metadata": {
  "kernelspec": {
   "display_name": "Python 3",
   "language": "python",
   "name": "python3"
  },
  "language_info": {
   "codemirror_mode": {
    "name": "ipython",
    "version": 3
   },
   "file_extension": ".py",
   "mimetype": "text/x-python",
   "name": "python",
   "nbconvert_exporter": "python",
   "pygments_lexer": "ipython3",
   "version": "3.6.7"
  }
 },
 "nbformat": 4,
 "nbformat_minor": 4
}
