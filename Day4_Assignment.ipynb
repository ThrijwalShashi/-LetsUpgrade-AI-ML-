{
 "metadata": {
  "language_info": {
   "codemirror_mode": {
    "name": "ipython",
    "version": 3
   },
   "file_extension": ".py",
   "mimetype": "text/x-python",
   "name": "python",
   "nbconvert_exporter": "python",
   "pygments_lexer": "ipython3",
   "version": "3.7.2-final"
  },
  "orig_nbformat": 2,
  "kernelspec": {
   "name": "python_defaultSpec_1599732039940",
   "display_name": "Python 3.7.2 64-bit"
  }
 },
 "nbformat": 4,
 "nbformat_minor": 2,
 "cells": [
  {
   "cell_type": "code",
   "execution_count": 22,
   "metadata": {
    "tags": []
   },
   "outputs": [
    {
     "output_type": "stream",
     "name": "stdout",
     "text": "(1+1j)\n"
    }
   ],
   "source": [
    "# Question 1:\n",
    "# Write a program to subtract two complex numbers in Python\n",
    "\n",
    "a=input(\"Enter first number\")\n",
    "b=input(\"Enter second  number\")\n",
    "print(complex(a)-complex(b))"
   ]
  },
  {
   "cell_type": "code",
   "execution_count": 29,
   "metadata": {
    "tags": []
   },
   "outputs": [
    {
     "output_type": "stream",
     "name": "stdout",
     "text": "81\n"
    }
   ],
   "source": [
    "# Question 2 :\n",
    "# Write a program to find the fourth root of a number\n",
    "n=input('enter a number')\n",
    "print(int(n)**4)\n"
   ]
  },
  {
   "cell_type": "code",
   "execution_count": 31,
   "metadata": {
    "tags": []
   },
   "outputs": [
    {
     "output_type": "stream",
     "name": "stdout",
     "text": "n1= 5  n2= 10\n"
    }
   ],
   "source": [
    "# Question 3:\n",
    "# Write a program to swap two numbers in Python with the help of a temporary variable.\n",
    "n1=10\n",
    "n2=5\n",
    "temp=n1\n",
    "n1=n2\n",
    "n2=temp\n",
    "print('n1=',n1,' n2=',n2)"
   ]
  },
  {
   "cell_type": "code",
   "execution_count": 2,
   "metadata": {
    "tags": []
   },
   "outputs": [
    {
     "output_type": "stream",
     "name": "stdout",
     "text": "4 2\n"
    }
   ],
   "source": [
    "# Question 4:\n",
    "# Write a program to swap two numbers in Python without using a temporary variable.\n",
    "x=2\n",
    "y=4\n",
    "x,y=y,x\n",
    "print(x,y)\n"
   ]
  },
  {
   "cell_type": "code",
   "execution_count": 37,
   "metadata": {
    "tags": []
   },
   "outputs": [
    {
     "output_type": "stream",
     "name": "stdout",
     "text": "Kelvin ( K ) = 311.278\ncelsius  = 37.778\n"
    }
   ],
   "source": [
    "# Question 5:\n",
    "# Write a program to convert Fahrenheit to kelvin and celsius both.\n",
    " \n",
    "F = float(input(\"Enter temperature in fahrenheit: \"))\n",
    "Celsius = (F-32) * 5/9\n",
    "kelvin= 273.5 + ((F - 32.0) * (5.0/9.0))\n",
    "print(\"Kelvin ( K ) = {:.3f}\" \n",
    "            .format(kelvin))\n",
    "print(\"celsius  = {:.3f}\" \n",
    "            .format(Celsius)) "
   ]
  },
  {
   "cell_type": "code",
   "execution_count": 42,
   "metadata": {
    "tags": []
   },
   "outputs": [
    {
     "output_type": "stream",
     "name": "stdout",
     "text": "<class 'int'>\n<class 'float'>\n<class 'complex'>\n<class 'list'>\n<class 'tuple'>\n<class 'dict'>\n"
    }
   ],
   "source": [
    "# Question 6:\n",
    "# Write a program to demonstrate all the available data types in Python. Hint: Use type() function\n",
    "print(type(2))\n",
    "print(type(2.0))\n",
    "print(type(2+3j))\n",
    "print(type([1,1]))\n",
    "print(type((1,2)))\n",
    "print(type({1:'2',2:'3'}))"
   ]
  },
  {
   "cell_type": "code",
   "execution_count": null,
   "metadata": {},
   "outputs": [],
   "source": []
  }
 ]
}